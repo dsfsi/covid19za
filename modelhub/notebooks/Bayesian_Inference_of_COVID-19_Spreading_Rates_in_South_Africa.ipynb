{
 "cells": [
  {
   "cell_type": "markdown",
   "metadata": {
    "colab_type": "text",
    "id": "a-S6HBvY4It9"
   },
   "source": [
    "# Bayesian Inference of COVID-19 Spreading Rates in South Africa \n",
    "\n",
    "**Authors** :*Rendani Mbuvha [Github: [@rendanim](https://github.com/rendanim)] & Tshilidzi Marwala [Twitter: [@txm1971](https://twitter.com/@txm1971)]*\n",
    "\n",
    "\n",
    "Follows methodology from:\n",
    "* Bayesian Inference of COVID-19 Spreading Rates in South Africa\n",
    "    Rendani Mbuvha, Tshilidzi Marwala\n",
    "    medRxiv 2020.04.28.20083873; doi: https://doi.org/10.1101/2020.04.28.20083873 and\n",
    "    \n",
    "* Dehning, J., Zierenberg, J., Spitzner, F. P., Wibral, M., Neto, J. P., Wilczek, M., & Priesemann, V. (2020). Inferring COVID-19 spreading rates and potential change points for case number forecasts. arXiv preprint arXiv:2004.01105.\n",
    "\n"
   ]
  },
  {
   "cell_type": "markdown",
   "metadata": {},
   "source": [
    "#### Only run the next block if you are running the notebook for the first time"
   ]
  },
  {
   "cell_type": "code",
   "execution_count": null,
   "metadata": {},
   "outputs": [],
   "source": [
    "# import warnings\n",
    "# warnings.filterwarnings('ignore')\n",
    "\n",
    "# !pip3 install pymc3\n",
    "# !pip3 install theano \n",
    "# !pip3 install git+https://github.com/rendanim/covid19_inference_forecast.git"
   ]
  },
  {
   "cell_type": "markdown",
   "metadata": {},
   "source": [
    "#### ..Start here for reruns"
   ]
  },
  {
   "cell_type": "code",
   "execution_count": null,
   "metadata": {
    "colab": {
     "base_uri": "https://localhost:8080/",
     "height": 654
    },
    "colab_type": "code",
    "id": "axj37zvyhg02",
    "outputId": "4bb81da4-54a0-4fd8-b4c7-ce6b1b180de2"
   },
   "outputs": [],
   "source": [
    "\n",
    "import sys\n",
    "sys.path.append('..')\n",
    "import datetime\n",
    "\n",
    "import numpy as np\n",
    "import pymc3 as pm\n",
    "import matplotlib.pyplot as plt\n",
    "import datetime\n",
    "import time as time_module\n",
    "import sys\n",
    "import os \n",
    "import scipy.stats\n",
    "import theano\n",
    "import matplotlib\n",
    "import pandas as pd\n",
    "try: \n",
    "    import covid19_inference as cov19\n",
    "except ModuleNotFoundError:\n",
    "    sys.path.append('..')\n",
    "    import covid19_inference as cov19"
   ]
  },
  {
   "cell_type": "markdown",
   "metadata": {},
   "source": [
    "## Loading data from covid19za repo\n",
    "\n",
    "https://github.com/dsfsi/covid19za"
   ]
  },
  {
   "cell_type": "code",
   "execution_count": null,
   "metadata": {},
   "outputs": [],
   "source": [
    "url = 'https://raw.githubusercontent.com/dsfsi/covid19za/master/data/covid19za_provincial_cumulative_timeline_confirmed.csv'\n",
    "df_cases = pd.read_csv(url,\n",
    "                     parse_dates=['date'], dayfirst=True,\n",
    "                     squeeze=True).sort_index()\n",
    "df_cases.head()"
   ]
  },
  {
   "cell_type": "code",
   "execution_count": null,
   "metadata": {},
   "outputs": [],
   "source": [
    "date_data_begin = datetime.datetime(2020,6,1)\n",
    "date_data_end   = df_cases['date'].max()\n",
    "df_filtered_cases = df_cases[df_cases['date'] >= date_data_begin]\n",
    "cases_obs = cases_obs = df_filtered_cases['total'].values"
   ]
  },
  {
   "cell_type": "code",
   "execution_count": null,
   "metadata": {},
   "outputs": [],
   "source": [
    "cases_obs"
   ]
  },
  {
   "cell_type": "code",
   "execution_count": null,
   "metadata": {},
   "outputs": [],
   "source": [
    "num_days_data = (date_data_end-date_data_begin).days\n",
    "diff_data_sim = 20\n",
    "num_days_future = 180\n",
    "date_begin_sim = date_data_begin - datetime.timedelta(days = diff_data_sim)\n",
    "date_end_sim   = date_data_end   + datetime.timedelta(days = num_days_future)\n",
    "num_days_sim = (date_end_sim-date_begin_sim).days"
   ]
  },
  {
   "cell_type": "markdown",
   "metadata": {},
   "source": [
    "## Model Specification and Prior Distributions\n",
    "\n",
    "Only starting from 15 june no change points considered here. Modelling is entirely in a level 3 context...\n",
    "\n",
    "We use an SIR model defined by the following ODEs:\n",
    "\n",
    "\\begin{align}\n",
    "\\frac{dS}{dt} &= -\\frac{\\lambda S I}{N}\\\\\n",
    "\\frac{dI}{dt} &= \\sigma S - \\mu I\\\\\n",
    "\\frac{dR}{dt} &=  \\mu I\n",
    "\\end{align}\n",
    "\n",
    "We also include a delay $D$ in becoming infected ($I^{\\text{new}}$) and being reported in the confirmed case statistics, such that the confirmed reported cases   $\\text{CR}_t$ at some time $t$ are in the form  :\n",
    "\\begin{equation}\n",
    "    \\text{CR}_t = I^{\\text{new}}_{t-D} \n",
    "\\end{equation}\n",
    "\n",
    "\n",
    "We donot explicitly set inital conditions or fix parameters. Rather we put prior distributions on all parameters as follows:\n",
    "\n",
    "\n",
    "|Parameter | Prior Distribution                      |\n",
    "|----------:|-----------------------------------------:|\n",
    "|Spreading rate $\\lambda_0$ | LogNormal(log(0.4),0.7)| \n",
    "|Recovery rate  $\\mu$       |LogNormal(log(1/8),0.2) |\n",
    "|Reporting Delay $D$        | LogNormal(log(8),0.2)  |\n",
    "|Initial Infectious  $I_0$  |  Half-Cauchy(20)       |\n",
    "\n"
   ]
  },
  {
   "cell_type": "code",
   "execution_count": null,
   "metadata": {},
   "outputs": [],
   "source": [
    "prior_date_level_3 =  datetime.datetime(2020,6,15)\n",
    "\n",
    "\n",
    "\n",
    "change_points = [ dict(pr_mean_date_begin_transient = prior_date_level_3,\n",
    "                      pr_sigma_date_begin_transient = 1,\n",
    "                      pr_median_lambda = 0.4,\n",
    "                      pr_sigma_lambda = 0.7)]\n"
   ]
  },
  {
   "cell_type": "markdown",
   "metadata": {},
   "source": [
    "## SIR with priors specified below inference perfromed using No-U-Turn Sampler \n",
    "\n",
    "Hoffman, Matthew D., and Andrew Gelman. \"The No-U-Turn sampler: adaptively setting path lengths in Hamiltonian Monte Carlo.\" J. Mach. Learn. Res. 15.1 (2014): 1593-1623..   "
   ]
  },
  {
   "cell_type": "code",
   "execution_count": null,
   "metadata": {
    "scrolled": true
   },
   "outputs": [],
   "source": [
    "sir_traces_NUTS = []\n",
    "sir_models = []\n",
    "\n",
    "sir_model = cov19.SIR_with_change_points(new_cases_obs = np.diff(cases_obs),\n",
    "                                     change_points_list = change_points,\n",
    "                                    date_begin_simulation =date_begin_sim,\n",
    "                                    num_days_sim=num_days_sim,\n",
    "                                    diff_data_sim=diff_data_sim, \n",
    "                                   N=59e6,priors_dict=dict(pr_beta_I_begin = 20,\n",
    "                                pr_median_lambda_0 =  0.4,\n",
    "                                pr_sigma_lambda_0 = 0.7,\n",
    "                                pr_median_mu = 1/8,\n",
    "                                pr_sigma_mu = 0.2,\n",
    "                                pr_median_delay = 8,\n",
    "                                pr_sigma_delay = 0.2,\n",
    "                                pr_beta_sigma_obs = 10))\n",
    "\n",
    "sir_models.append(sir_model)\n",
    "\n",
    "with sir_model:\n",
    "    step_NUTS = pm.NUTS()\n",
    "    sir_traces_NUTS.append(pm.sample(model=sir_model, init='advi',step=step_NUTS, draws=5000,tune=10))"
   ]
  },
  {
   "cell_type": "markdown",
   "metadata": {},
   "source": [
    "## Posterior Distributions of Parameters "
   ]
  },
  {
   "cell_type": "code",
   "execution_count": null,
   "metadata": {},
   "outputs": [],
   "source": [
    "varnames = cov19.plotting.get_all_free_RVs_names(sir_models[0])\n",
    "varnames = ['I_begin', 'lambda_0', 'mu', 'delay']\n",
    "num_cols = 4\n",
    "num_rows = int(np.ceil(len(varnames)/num_cols))\n",
    "x_size = num_cols * 2.5\n",
    "y_size = num_rows * 2.5\n",
    "\n",
    "fig, axes = plt.subplots(num_rows, num_cols, figsize = (x_size, y_size),squeeze=False)\n",
    "i_ax = 0\n",
    "for i_row, axes_row in enumerate(axes):\n",
    "    for i_col, ax in enumerate(axes_row):\n",
    "        if i_ax >= len(varnames):\n",
    "            ax.set_visible(False)\n",
    "            continue \n",
    "        else:\n",
    "            cov19.plotting.plot_hist(sir_models[0], sir_traces_NUTS[0], ax, varnames[i_ax],colors = ('tab:cyan', 'tab:green'))\n",
    "        if not i_col == 0:\n",
    "            ax.set_ylabel('')\n",
    "        if i_col == 0 and i_row == 0:\n",
    "            ax.legend()\n",
    "        i_ax += 1\n",
    "fig.subplots_adjust(wspace=0.25, hspace=0.4)\n"
   ]
  },
  {
   "cell_type": "markdown",
   "metadata": {},
   "source": [
    "## Predictions "
   ]
  },
  {
   "cell_type": "code",
   "execution_count": null,
   "metadata": {},
   "outputs": [],
   "source": [
    "date_data_end_to_plot   = date_data_end\n",
    "cases_obs_to_plot = cases_obs\n",
    "\n",
    "def truncate_number(number, precision):\n",
    "    return '{{:.{}f}}'.format(precision).format(number)  \n",
    "\n",
    "def print_median_CI(arr, prec = 2):\n",
    "    f_trunc = lambda n: truncate_number(n, prec)\n",
    "    med = f_trunc(np.mean(arr))\n",
    "    perc1, perc2 = f_trunc(np.percentile(arr, q=2.5)), f_trunc(np.percentile(arr, q=97.5))\n",
    "    return 'Median: {}\\n95% CI: [{}, {}]'.format(med, perc1, perc2)\n",
    "def conv_time_to_mpl_dates(arr):\n",
    "    return matplotlib.dates.date2num([datetime.timedelta(days=float(date)) + date_begin_sim for date in arr])\n",
    "\n",
    "print(\"Plots with data from {} to {}\".format(date_data_begin.date().isoformat(), date_data_end.date().isoformat()))\n",
    "\n",
    "trace = sir_traces_NUTS[0]\n",
    "posterior = sir_traces_NUTS[:]\n",
    "\n",
    "\n",
    "pos_letter = (-0.2, 1)\n",
    "\n",
    "\n",
    "limit_lambda = (-0.1,0.5)\n",
    "bins_lambda  = np.linspace(*limit_lambda, 30)\n",
    "\n",
    "fig, axes = plt.subplots(2,1, figsize=(10,10), gridspec_kw={'height_ratios': [2,2]})\n",
    "\n",
    "colors  = ['tab:green','tab:orange']\n",
    "legends = ['Forecast: ', ' Predictions (9 July - Level 3) ']\n",
    "\n",
    "ax = axes[0]\n",
    "\n",
    "time1 = np.arange(-len(cases_obs)+2, 1)\n",
    "mpl_dates = conv_time_to_mpl_dates(time1) + diff_data_sim + num_days_data\n",
    "time_for_obs = np.arange(-len(cases_obs)+2, 1+len(cases_obs_to_plot)-len(cases_obs))\n",
    "mpl_dates_for_obs = conv_time_to_mpl_dates(time_for_obs) + diff_data_sim + num_days_data\n",
    "\n",
    "start_date = mpl_dates[0]\n",
    "diff_cases = np.diff(cases_obs)\n",
    "ax.plot(mpl_dates_for_obs, np.diff(cases_obs_to_plot), 'd', label='Confirmed new cases', \n",
    "        markersize=4, color='tab:blue', zorder=5)\n",
    "\n",
    "new_cases_past = trace.new_cases[:,:num_days_data]\n",
    "percentiles = np.percentile(new_cases_past, q=2.5, axis=0), np.percentile(new_cases_past, q=97.5, axis=0)\n",
    "ax.plot(mpl_dates, np.median(new_cases_past, axis=0),color='tab:green', linewidth=3, zorder=-1)\n",
    "ax.fill_between(mpl_dates, percentiles[0], percentiles[1], alpha=0.3, color='tab:green')\n",
    "\n",
    "ax.plot([],[], label=legends[0], alpha=0)\n",
    "for trace_scen, color, legend in zip(posterior, colors, legends[1:]):\n",
    "    new_cases_past = trace_scen.new_cases[:,:num_days_data]\n",
    "    ax.plot(mpl_dates, np.median(new_cases_past, axis=0),'--',color=color, linewidth=1.5)\n",
    "\n",
    "    time2 = np.arange(0, num_days_future+1)\n",
    "    mpl_dates_fut = conv_time_to_mpl_dates(time2) + diff_data_sim + num_days_data\n",
    "    end_date = mpl_dates_fut[-3]\n",
    "    cases_future = trace_scen['new_cases'][:, num_days_data:].T\n",
    "    \n",
    "    median = np.median(cases_future, axis=-1)\n",
    "    percentiles = (\n",
    "    np.percentile(cases_future, q=2.5, axis=-1),\n",
    "    np.percentile(cases_future, q=97.5, axis=-1),\n",
    "    )\n",
    "\n",
    "    ax.plot(mpl_dates_fut[1:], median, color=color, linewidth=3, label=legend)\n",
    "    ax.fill_between(mpl_dates_fut[1:], percentiles[0], percentiles[1], alpha=0.15, color=color)\n",
    "\n",
    "\n",
    "ax.set_xlabel('Date')\n",
    "ax.set_ylabel('New confirmed cases\\nin South Africa')\n",
    "ax.legend(loc='upper left')\n",
    "ax.set_ylim(0, 450_000)\n",
    "\n",
    "ax.locator_params(axis=\"y\", nbins=4)\n",
    "\n",
    "ax.xaxis.set_major_locator(matplotlib.dates.WeekdayLocator(interval=2, byweekday=matplotlib.dates.SU))\n",
    "ax.xaxis.set_minor_locator(matplotlib.dates.DayLocator())\n",
    "ax.xaxis.set_major_formatter(matplotlib.dates.DateFormatter('%m/%d'))\n",
    "ax.set_xlim(start_date, end_date)\n",
    "ax.xaxis.set_ticks_position('both')\n",
    "\n",
    "\n",
    "ax=axes[1]\n",
    "\n",
    "time1 = np.arange(-len(cases_obs)+2, 1)\n",
    "mpl_dates = conv_time_to_mpl_dates(time1) + diff_data_sim + num_days_data\n",
    "ax.plot(mpl_dates_for_obs, cases_obs_to_plot[1:], 'd', label='Confirmed cases', markersize=4, color='tab:blue', \n",
    "            zorder=5)\n",
    "\n",
    "\n",
    "cum_cases = np.cumsum(new_cases_past, axis=1) + cases_obs[0]\n",
    "percentiles = np.percentile(cum_cases, q=2.5, axis=0), np.percentile(cum_cases, q=97.5, axis=0)\n",
    "ax.plot(mpl_dates, np.median(cum_cases, axis=0),color='tab:green', linewidth=3, zorder=-1)\n",
    "ax.fill_between(mpl_dates, percentiles[0], percentiles[1], alpha=0.3, color='tab:green')\n",
    "\n",
    "ax.plot([],[], label=legends[0], alpha=0)\n",
    "for trace_scen, color, legend in zip(posterior, colors, legends[1:]):\n",
    "    new_cases_past = trace_scen.new_cases[:,:num_days_data]\n",
    "    cum_cases = np.cumsum(new_cases_past, axis=1) + cases_obs[0]\n",
    "    ax.plot(mpl_dates, np.median(cum_cases, axis=0),'--',color=color, linewidth=1.5)\n",
    "\n",
    "    time2 = np.arange(0, num_days_future+1)\n",
    "    mpl_dates_fut = conv_time_to_mpl_dates(time2) + diff_data_sim + num_days_data\n",
    "    cases_future = np.cumsum(trace_scen['new_cases'][:, num_days_data:].T, axis=0) + cases_obs[-1]\n",
    "  \n",
    "    median = np.median(cases_future, axis=-1)\n",
    "    percentiles = (\n",
    "        np.percentile(cases_future, q=2.5, axis=-1),\n",
    "        np.percentile(cases_future, q=97.5, axis=-1),\n",
    "    )\n",
    "\n",
    "    ax.plot(mpl_dates_fut[1:], median, color=color, linewidth=3, label=legend)\n",
    "    ax.fill_between(mpl_dates_fut[1:], percentiles[0], percentiles[1], alpha=0.15, color=color)\n",
    "    \n",
    "ax.set_xlabel('Date')\n",
    "ax.set_ylabel('Total confirmed cases\\nin South Africa')\n",
    "ax.legend(loc='upper left')\n",
    "ax.set_ylim(0, 32_000_000)\n",
    "\n",
    "ax.locator_params(axis=\"y\", nbins=4)\n",
    "func_format = lambda num, _: \"${:.0f}\\,$m\".format(num/1_000_000)\n",
    "ax.yaxis.set_major_formatter(matplotlib.ticker.FuncFormatter(func_format))\n",
    "ax.set_xlim(start_date, end_date)\n",
    "ax.xaxis.set_major_locator(matplotlib.dates.WeekdayLocator(interval=2,byweekday=matplotlib.dates.SU))\n",
    "ax.xaxis.set_minor_locator(matplotlib.dates.DayLocator())\n",
    "ax.xaxis.set_major_formatter(matplotlib.dates.DateFormatter('%m/%d'))\n",
    "\n",
    "ax.set_xlim(start_date, end_date)\n"
   ]
  }
 ],
 "metadata": {
  "colab": {
   "collapsed_sections": [],
   "include_colab_link": true,
   "name": "example_script_covid19_inference",
   "provenance": []
  },
  "kernelspec": {
   "display_name": "Python 3",
   "language": "python",
   "name": "python3"
  },
  "language_info": {
   "codemirror_mode": {
    "name": "ipython",
    "version": 3
   },
   "file_extension": ".py",
   "mimetype": "text/x-python",
   "name": "python",
   "nbconvert_exporter": "python",
   "pygments_lexer": "ipython3",
   "version": "3.6.10"
  }
 },
 "nbformat": 4,
 "nbformat_minor": 4
}
